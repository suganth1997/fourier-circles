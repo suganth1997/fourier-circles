{
 "cells": [
  {
   "cell_type": "markdown",
   "metadata": {},
   "source": [
    "## Notebook to create Fourier circles from an SVG path"
   ]
  },
  {
   "cell_type": "code",
   "execution_count": 1,
   "metadata": {},
   "outputs": [],
   "source": [
    "import numpy as np\n",
    "from scipy.integrate import quad\n",
    "import matplotlib.pyplot as plt"
   ]
  },
  {
   "cell_type": "markdown",
   "metadata": {},
   "source": [
    "#### Read path from svg file"
   ]
  },
  {
   "cell_type": "code",
   "execution_count": null,
   "metadata": {},
   "outputs": [],
   "source": [
    "from svgpathtools import svg2paths\n",
    "paths, attributes = svg2paths('file.svg')\n"
   ]
  },
  {
   "cell_type": "code",
   "execution_count": null,
   "metadata": {},
   "outputs": [],
   "source": [
    "p = paths[0]"
   ]
  },
  {
   "cell_type": "markdown",
   "metadata": {},
   "source": [
    "#### Sample svg path and create datapoints with complex numbers"
   ]
  },
  {
   "cell_type": "code",
   "execution_count": null,
   "metadata": {},
   "outputs": [],
   "source": [
    "k, t = p.T2t(0.1)"
   ]
  },
  {
   "cell_type": "code",
   "execution_count": null,
   "metadata": {},
   "outputs": [],
   "source": [
    "x = []\n",
    "y = []\n",
    "\n",
    "for t_ in np.linspace(0, 1, 100000):\n",
    "    k, t = p.T2t(t_)\n",
    "    v = p[k].point(t)\n",
    "    x.append(v.real)\n",
    "    y.append(v.imag)"
   ]
  },
  {
   "cell_type": "code",
   "execution_count": null,
   "metadata": {},
   "outputs": [],
   "source": [
    "x = np.array(x)\n",
    "y = np.array(y)\n",
    "\n",
    "x = x - np.mean(x)\n",
    "x = x / max(x)\n",
    "\n",
    "y = y - np.mean(y)\n",
    "y = y / max(y)\n",
    "\n",
    "x = 1.25 * x\n",
    "y = 1.25 * y\n",
    "\n",
    "plt.plot(2*x - 1, -2*y)"
   ]
  },
  {
   "cell_type": "code",
   "execution_count": null,
   "metadata": {},
   "outputs": [],
   "source": [
    "data = (2*x - 1) - 1j * 2*y"
   ]
  },
  {
   "cell_type": "markdown",
   "metadata": {},
   "source": [
    "### Compute Fourier circle dimensions"
   ]
  },
  {
   "cell_type": "code",
   "execution_count": null,
   "metadata": {},
   "outputs": [],
   "source": [
    "nc = 500 # Number of circles\n",
    "t = np.linspace(0, 1, data.shape[0])\n",
    "idx = list(range(-nc, nc + 1))\n",
    "\n",
    "assert(len(idx) == 2*nc + 1)\n",
    "\n",
    "c = np.zeros(2*nc + 1) + 1j * np.zeros(2*nc + 1)\n",
    "\n",
    "for i in idx:\n",
    "    c_data = data * np.exp(1j * i * 2 * np.pi * t)\n",
    "    c[i + nc] = np.trapz(c_data.real, t) + 1j * np.trapz(c_data.imag, t)"
   ]
  },
  {
   "cell_type": "markdown",
   "metadata": {},
   "source": [
    "#### Test if circles create the intended path"
   ]
  },
  {
   "cell_type": "code",
   "execution_count": null,
   "metadata": {},
   "outputs": [],
   "source": [
    "t = np.linspace(0, 1, 1000)\n",
    "theta = t * 2*np.pi\n",
    "f = []\n",
    "\n",
    "for i, t in enumerate(theta):\n",
    "    val = 0.0\n",
    "    for id in idx:\n",
    "        val += c[id + nc] * np.exp(id*t*1j)\n",
    "    f.append(val)\n",
    "\n",
    "f = np.array(f)"
   ]
  },
  {
   "cell_type": "code",
   "execution_count": null,
   "metadata": {},
   "outputs": [],
   "source": [
    "plt.plot(f.real, f.imag)"
   ]
  },
  {
   "cell_type": "markdown",
   "metadata": {},
   "source": [
    "### Write out Fourier coefficients"
   ]
  },
  {
   "cell_type": "code",
   "execution_count": null,
   "metadata": {},
   "outputs": [],
   "source": [
    "np.savetxt(\"fourierCoefficients.txt\", np.vstack((c.real, c.imag)))"
   ]
  }
 ],
 "metadata": {
  "kernelspec": {
   "display_name": "Python 3",
   "language": "python",
   "name": "python3"
  },
  "language_info": {
   "codemirror_mode": {
    "name": "ipython",
    "version": 3
   },
   "file_extension": ".py",
   "mimetype": "text/x-python",
   "name": "python",
   "nbconvert_exporter": "python",
   "pygments_lexer": "ipython3",
   "version": "3.11.3"
  },
  "orig_nbformat": 4
 },
 "nbformat": 4,
 "nbformat_minor": 2
}
